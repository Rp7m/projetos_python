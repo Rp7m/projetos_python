{
  "nbformat": 4,
  "nbformat_minor": 0,
  "metadata": {
    "colab": {
      "provenance": [],
      "authorship_tag": "ABX9TyPLl7I5oJB2+VV7wdAjixe8",
      "include_colab_link": true
    },
    "kernelspec": {
      "name": "python3",
      "display_name": "Python 3"
    },
    "language_info": {
      "name": "python"
    }
  },
  "cells": [
    {
      "cell_type": "markdown",
      "metadata": {
        "id": "view-in-github",
        "colab_type": "text"
      },
      "source": [
        "<a href=\"https://colab.research.google.com/github/Rp7m/projetos_python/blob/main/Projeto_flask_json.ipynb\" target=\"_parent\"><img src=\"https://colab.research.google.com/assets/colab-badge.svg\" alt=\"Open In Colab\"/></a>"
      ]
    },
    {
      "cell_type": "code",
      "execution_count": 1,
      "metadata": {
        "colab": {
          "base_uri": "https://localhost:8080/"
        },
        "id": "qA-l9bgT-JOK",
        "outputId": "de8d0a05-61c5-4cfa-f509-97c6fd97fc3a"
      },
      "outputs": [
        {
          "output_type": "stream",
          "name": "stdout",
          "text": [
            "Collecting pyngrok\n",
            "  Downloading pyngrok-7.2.0-py3-none-any.whl (22 kB)\n",
            "Requirement already satisfied: PyYAML>=5.1 in /usr/local/lib/python3.10/dist-packages (from pyngrok) (6.0.1)\n",
            "Installing collected packages: pyngrok\n",
            "Successfully installed pyngrok-7.2.0\n"
          ]
        }
      ],
      "source": [
        "!pip install pyngrok"
      ]
    },
    {
      "cell_type": "code",
      "source": [
        "from flask import Flask\n",
        "from pyngrok import ngrok\n",
        "import pandas as pd\n",
        "from flask import request,jsonify\n",
        "import random as rk\n",
        "\n",
        "port = 5000\n",
        "\n",
        "app = Flask(__name__)\n",
        "ngrok.set_auth_token(\"Para testar Colocar seu Authotoken ngrok\")\n",
        "public_url = ngrok.connect(port).public_url\n",
        "\n",
        "d = [\n",
        "    {\n",
        "    \"Number\":1,\n",
        "    \"Name\":\"Mahesh\",\n",
        "    \"Age\":25,\n",
        "    \"City\":\"Bangalore\",\n",
        "    \"Country\":\"India\"\n",
        "    },\n",
        "    {\n",
        "    \"Number\":2,\n",
        "    \"Name\":\"Alex\",\n",
        "    \"Age\":26,\n",
        "    \"City\":\"Longon\",\n",
        "    \"Country\":\"UK\"\n",
        "    },\n",
        "    {\n",
        "    \"Number\":3,\n",
        "    \"Name\":\"David\",\n",
        "    \"Age\":27,\n",
        "    \"City\":\"San Francisco\",\n",
        "    \"Country\":\"USA\"\n",
        "    },\n",
        "    {\n",
        "    \"Number\":4,\n",
        "    \"Name\":\"John\",\n",
        "    \"Age\":28,\n",
        "    \"City\":\"Toronto\",\n",
        "    \"Country\":\"Canada\"\n",
        "    },\n",
        "    {\n",
        "    \"Number\":5,\n",
        "    \"Name\":\"Chris\",\n",
        "    \"Age\":29,\n",
        "    \"City\":\"Paris\",\n",
        "    \"Country\":\"France\"\n",
        "    }\n",
        "  ]\n",
        "\n",
        "\n",
        "@app.route(\"/index\")\n",
        "def input():\n",
        "  return jsonify(d)\n",
        "\n",
        "\n",
        "print(f\"Link publico {public_url}\")\n",
        "\n",
        "app.run(port=5000)"
      ],
      "metadata": {
        "colab": {
          "base_uri": "https://localhost:8080/"
        },
        "id": "hCZ96F-2_3Oi",
        "outputId": "752089b1-7aab-4b22-cc6b-431b7c96194d"
      },
      "execution_count": 5,
      "outputs": [
        {
          "output_type": "stream",
          "name": "stdout",
          "text": [
            "Link publico https://d8de-35-245-242-129.ngrok-free.app\n",
            " * Serving Flask app '__main__'\n",
            " * Debug mode: off\n"
          ]
        },
        {
          "output_type": "stream",
          "name": "stderr",
          "text": [
            "INFO:werkzeug:\u001b[31m\u001b[1mWARNING: This is a development server. Do not use it in a production deployment. Use a production WSGI server instead.\u001b[0m\n",
            " * Running on http://127.0.0.1:5000\n",
            "INFO:werkzeug:\u001b[33mPress CTRL+C to quit\u001b[0m\n",
            "INFO:werkzeug:127.0.0.1 - - [23/Jul/2024 19:32:23] \"\u001b[33mGET / HTTP/1.1\u001b[0m\" 404 -\n",
            "INFO:werkzeug:127.0.0.1 - - [23/Jul/2024 19:32:24] \"\u001b[33mGET /favicon.ico HTTP/1.1\u001b[0m\" 404 -\n",
            "INFO:werkzeug:127.0.0.1 - - [23/Jul/2024 19:32:30] \"GET /index HTTP/1.1\" 200 -\n"
          ]
        }
      ]
    }
  ]
}